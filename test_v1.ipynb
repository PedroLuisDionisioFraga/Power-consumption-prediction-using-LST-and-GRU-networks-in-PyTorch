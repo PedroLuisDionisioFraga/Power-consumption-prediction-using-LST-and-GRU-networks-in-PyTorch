{
 "cells": [
  {
   "attachments": {},
   "cell_type": "markdown",
   "metadata": {},
   "source": [
    "# Manipulando dados no excel\n",
    "\n",
    "Usaremos 2 bibliotecas para manipulação de dados:\n",
    " * [openpyxl](https://openpyxl.readthedocs.io/en/stable/)\n",
    " * [pandas](https://pandas.pydata.org/)"
   ]
  },
  {
   "attachments": {},
   "cell_type": "markdown",
   "metadata": {},
   "source": [
    "### Usaremos agora a **pandas**"
   ]
  },
  {
   "cell_type": "code",
   "execution_count": 29,
   "metadata": {},
   "outputs": [],
   "source": [
    "import pandas as pd"
   ]
  },
  {
   "attachments": {},
   "cell_type": "markdown",
   "metadata": {},
   "source": [
    "#### Indicando o arquivo em excel\n",
    "_Obs:_ É possível usar tanto extensões od tipo \".xlsx\" e \".csv\""
   ]
  },
  {
   "cell_type": "code",
   "execution_count": 30,
   "metadata": {},
   "outputs": [],
   "source": [
    "workSpace = pd.read_excel(\"models\\municipio_mensal.xlsx\", sheet_name=\"Consumo MWh\")"
   ]
  },
  {
   "attachments": {},
   "cell_type": "markdown",
   "metadata": {},
   "source": [
    "#### Podemos ver o tamanho da planilha usando o método \"shape()\""
   ]
  },
  {
   "cell_type": "code",
   "execution_count": 31,
   "metadata": {},
   "outputs": [
    {
     "name": "stdout",
     "output_type": "stream",
     "text": [
      "(4512, 353)\n"
     ]
    }
   ],
   "source": [
    "print(workSpace.shape)"
   ]
  },
  {
   "attachments": {},
   "cell_type": "markdown",
   "metadata": {},
   "source": [
    "Também podemos retirar as colunas que não nos interessam, como:\n",
    " * tipo \n",
    " * cod_muni\n",
    " * agência\n",
    " * núcleo\n",
    " * unidade\n",
    " * cod_classe\n",
    " * município (Após a filtragem)"
   ]
  },
  {
   "attachments": {},
   "cell_type": "markdown",
   "metadata": {},
   "source": [
    "Ou podemos usar para filtrar as colunas \"município\" e as datas usando:"
   ]
  },
  {
   "cell_type": "code",
   "execution_count": null,
   "metadata": {},
   "outputs": [],
   "source": [
    "# # Seleciona as colunas com base nos critérios definidos\n",
    "# cols_to_keep = ['municipio'] + df.columns[df.columns.str.contains('/')].tolist()\n",
    "\n",
    "# # Cria um novo DataFrame apenas com as colunas selecionadas\n",
    "# df_selected = df.loc[:, cols_to_keep]\n",
    "\n",
    "# # Imprime o novo DataFrame\n",
    "# print(df_selected)"
   ]
  },
  {
   "cell_type": "code",
   "execution_count": 32,
   "metadata": {},
   "outputs": [],
   "source": [
    "# Mantendo no DataFrame apenas os dados com município igual a Florianópolis\n",
    "workSpace = workSpace.loc[workSpace[\"município\"] == \"Florianópolis\"]\n",
    "# Removendo as colunas que não serão utilizadas em nossa análise\n",
    "workSpace = workSpace.drop(columns=['tipo', 'cod_muni', 'agência', 'núcleo', 'unidade', 'cod_classe', 'município'])"
   ]
  },
  {
   "attachments": {},
   "cell_type": "markdown",
   "metadata": {},
   "source": [
    "Agora possuímos apenas dados referentes ao município de Florianópolis. Porém a distribuição destes dados no DataFrame não está de forma ideal para analisá-los. Utilizaremos a função **melt()** para despivotar a tabela utilizando a coluna classe como referência, assim alterando o formato de **wide** para **long**"
   ]
  },
  {
   "cell_type": "code",
   "execution_count": 33,
   "metadata": {},
   "outputs": [],
   "source": [
    "#Utilizando a feature classe como ponto de pivotamento, assim tendo o DataFrame corretamente\n",
    "#construido\n",
    "df_floripa = workSpace.melt(id_vars=['classe'])\n",
    "\n",
    "#Renomeando as colunas restantes para refletir o que estamos analisando\n",
    "df_floripa.rename(columns = {'variable':'Data','value':'MWh'}, inplace = True)"
   ]
  },
  {
   "attachments": {},
   "cell_type": "markdown",
   "metadata": {},
   "source": [
    "Agora vamos separar os dados de consumo em relação a sua classe, criando um DataFrame para cada uma."
   ]
  },
  {
   "cell_type": "code",
   "execution_count": 68,
   "metadata": {},
   "outputs": [],
   "source": [
    "# Separando os dados de consumo pela classe em diferentes DataFrames\n",
    "df_res = df_floripa.loc[df_floripa['classe']=='Residencial']\n",
    "df_ind = df_floripa.loc[df_floripa['classe']=='Industrial']\n",
    "df_com = df_floripa.loc[df_floripa['classe']=='Comercial']\n",
    "df_rur = df_floripa.loc[df_floripa['classe']=='Rural']\n",
    "df_pub = df_floripa.loc[df_floripa['classe']=='Poder Público']\n",
    "df_ilu = df_floripa.loc[df_floripa['classe']=='Iluminação Pública']\n",
    "df_ser = df_floripa.loc[df_floripa['classe']=='Serviço Público']\n",
    "df_pro = df_floripa.loc[df_floripa['classe']=='Próprio']\n",
    "\n",
    "#print(df_res)"
   ]
  },
  {
   "attachments": {},
   "cell_type": "markdown",
   "metadata": {},
   "source": [
    "#### Filtrando ainda mais\n",
    " * Removendo a coluna \"classe\"\n",
    " * Somando todos os valores da coluna \"MWh\" que possuem as datas da coluna \"Data\" iguais"
   ]
  },
  {
   "attachments": {},
   "cell_type": "markdown",
   "metadata": {},
   "source": [
    "Como podemos perceber acima, as linhas de consumo se repetem, mesmo pertencendo a mesma classe. Assim utilizaremos a função utilizando as funções **groupby()** e **sum()**"
   ]
  },
  {
   "cell_type": "code",
   "execution_count": 69,
   "metadata": {},
   "outputs": [],
   "source": [
    "df_res = df_res.groupby(['Data'], as_index=False).sum()\n",
    "df_ind = df_ind.groupby(['Data'], as_index=False).sum()\n",
    "df_com = df_com.groupby(['Data'], as_index=False).sum()\n",
    "df_rur = df_rur.groupby(['Data'], as_index=False).sum()\n",
    "df_pub = df_pub.groupby(['Data'], as_index=False).sum()\n",
    "df_ilu = df_ilu.groupby(['Data'], as_index=False).sum()\n",
    "df_ser = df_ser.groupby(['Data'], as_index=False).sum()\n",
    "df_pro = df_pro.groupby(['Data'], as_index=False).sum()\n",
    "#print(df_com)\n",
    "\n",
    "#print(df_res[\"Data\"])"
   ]
  },
  {
   "attachments": {},
   "cell_type": "markdown",
   "metadata": {},
   "source": [
    "#### Renomeando a coluna \"Data\" para \"Datetime\""
   ]
  },
  {
   "cell_type": "code",
   "execution_count": 75,
   "metadata": {},
   "outputs": [],
   "source": [
    "df_res = df_res.rename(columns={\"Data\": \"Datetime\"})\n",
    "df_ind = df_ind.rename(columns={\"Data\": \"Datetime\"})\n",
    "df_com = df_com.rename(columns={\"Data\": \"Datetime\"})\n",
    "df_rur = df_rur.rename(columns={\"Data\": \"Datetime\"})\n",
    "df_pub = df_pub.rename(columns={\"Data\": \"Datetime\"})\n",
    "df_ilu = df_ilu.rename(columns={\"Data\": \"Datetime\"})\n",
    "df_ser = df_ser.rename(columns={\"Data\": \"Datetime\"})\n",
    "df_pro = df_pro.rename(columns={\"Data\": \"Datetime\"})"
   ]
  },
  {
   "attachments": {},
   "cell_type": "markdown",
   "metadata": {},
   "source": [
    "#### Convertendo para o formato \".csv\"\n",
    "\n",
    "1) Concatenando as colunas \"Data\" e \"MWh\""
   ]
  },
  {
   "cell_type": "code",
   "execution_count": 77,
   "metadata": {},
   "outputs": [],
   "source": [
    "df_res_concat = pd.concat([df_res[\"Datetime\"], df_res[\"MWh\"]], axis=1)\n",
    "df_ind_concat = pd.concat([df_ind[\"Datetime\"], df_ind[\"MWh\"]], axis=1)\n",
    "df_com_concat = pd.concat([df_com[\"Datetime\"], df_com[\"MWh\"]], axis=1)\n",
    "df_rur_concat = pd.concat([df_rur[\"Datetime\"], df_rur[\"MWh\"]], axis=1)\n",
    "df_pub_concat = pd.concat([df_pub[\"Datetime\"], df_pub[\"MWh\"]], axis=1)\n",
    "df_ilu_concat = pd.concat([df_ilu[\"Datetime\"], df_ilu[\"MWh\"]], axis=1)\n",
    "df_ser_concat = pd.concat([df_ser[\"Datetime\"], df_ser[\"MWh\"]], axis=1)\n",
    "df_pro_concat = pd.concat([df_pro[\"Datetime\"], df_pro[\"MWh\"]], axis=1)"
   ]
  },
  {
   "cell_type": "markdown",
   "metadata": {},
   "source": [
    "2) Convertendo no formato \".csv\"\n",
    "3) Salvando os modelos filtrados"
   ]
  },
  {
   "cell_type": "code",
   "execution_count": 74,
   "metadata": {},
   "outputs": [],
   "source": [
    "# Salvando as alterações\n",
    "df_res_concat.to_csv(\"models/After Filters/res_municipio_mensal.csv\", index=False)\n",
    "df_ind_concat.to_csv(\"models/After Filters/ind_municipio_mensal.csv\", index=False)\n",
    "df_com_concat.to_csv(\"models/After Filters/com_municipio_mensal.csv\", index=False)\n",
    "df_rur_concat.to_csv(\"models/After Filters/rur_municipio_mensal.csv\", index=False)\n",
    "df_pub_concat.to_csv(\"models/After Filters/pub_municipio_mensal.csv\", index=False)\n",
    "df_ilu_concat.to_csv(\"models/After Filters/ilu_municipio_mensal.csv\", index=False)\n",
    "df_ser_concat.to_csv(\"models/After Filters/ser_municipio_mensal.csv\", index=False)\n",
    "df_pro_concat.to_csv(\"models/After Filters/pro_municipio_mensal.csv\", index=False)"
   ]
  },
  {
   "attachments": {},
   "cell_type": "markdown",
   "metadata": {},
   "source": [
    "## Remover a coluna \"Classe\" e entrar com \"data\""
   ]
  }
 ],
 "metadata": {
  "kernelspec": {
   "display_name": "Python 3",
   "language": "python",
   "name": "python3"
  },
  "language_info": {
   "codemirror_mode": {
    "name": "ipython",
    "version": 3
   },
   "file_extension": ".py",
   "mimetype": "text/x-python",
   "name": "python",
   "nbconvert_exporter": "python",
   "pygments_lexer": "ipython3",
   "version": "3.8.0"
  },
  "orig_nbformat": 4
 },
 "nbformat": 4,
 "nbformat_minor": 2
}
